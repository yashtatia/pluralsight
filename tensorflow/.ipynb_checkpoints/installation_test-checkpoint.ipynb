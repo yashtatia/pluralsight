{
 "cells": [
  {
   "cell_type": "code",
   "execution_count": 3,
   "metadata": {},
   "outputs": [
    {
     "name": "stdout",
     "output_type": "stream",
     "text": [
      "b'Hello pluralsight from tensorflow'\n",
      "a + b = 42\n"
     ]
    }
   ],
   "source": [
    "#import tensor flow\n",
    "import tensorflow as tf\n",
    "\n",
    "sess = tf.Session()\n",
    "\n",
    "#Verify we can print a string\n",
    "hello = tf.constant(\"Hello pluralsight from tensorflow\")\n",
    "print(sess.run(hello))\n",
    "\n",
    "#Perform some basic maths\n",
    "a = tf.constant(20)\n",
    "b = tf.constant(22)\n",
    "print('a + b = {0}'.format(sess.run(a + b)))"
   ]
  }
 ],
 "metadata": {
  "kernelspec": {
   "display_name": "Python 3",
   "language": "python",
   "name": "python3"
  },
  "language_info": {
   "codemirror_mode": {
    "name": "ipython",
    "version": 3
   },
   "file_extension": ".py",
   "mimetype": "text/x-python",
   "name": "python",
   "nbconvert_exporter": "python",
   "pygments_lexer": "ipython3",
   "version": "3.6.3"
  }
 },
 "nbformat": 4,
 "nbformat_minor": 2
}
