{
 "cells": [
  {
   "cell_type": "code",
   "execution_count": 1,
   "metadata": {
    "collapsed": true
   },
   "outputs": [],
   "source": [
    "import tensorflow as tf\n",
    "from tensorflow.examples.tutorials.mnist import input_data"
   ]
  },
  {
   "cell_type": "code",
   "execution_count": 2,
   "metadata": {
    "scrolled": true
   },
   "outputs": [
    {
     "name": "stdout",
     "output_type": "stream",
     "text": [
      "Extracting MNIST_data/train-images-idx3-ubyte.gz\n",
      "Extracting MNIST_data/train-labels-idx1-ubyte.gz\n",
      "Extracting MNIST_data/t10k-images-idx3-ubyte.gz\n",
      "Extracting MNIST_data/t10k-labels-idx1-ubyte.gz\n"
     ]
    }
   ],
   "source": [
    "#Create input data which reads data from MNIST datasets. Perform on hot encoding to define the digit\n",
    "mnist = input_data.read_data_sets(\"MNIST_data\", one_hot=True)"
   ]
  },
  {
   "cell_type": "code",
   "execution_count": 3,
   "metadata": {
    "collapsed": true
   },
   "outputs": [],
   "source": [
    "#Using interactive session makes it to default session so we don not have to use sess\n",
    "sess = tf.InteractiveSession()"
   ]
  },
  {
   "cell_type": "code",
   "execution_count": 4,
   "metadata": {
    "collapsed": true
   },
   "outputs": [],
   "source": [
    "#Define placeholders from MNISt data\n",
    "x = tf.placeholder(tf.float32, shape=[None, 784])\n",
    "y_ = tf.placeholder(tf.float32, shape=[None, 10])"
   ]
  },
  {
   "cell_type": "code",
   "execution_count": 5,
   "metadata": {
    "collapsed": true
   },
   "outputs": [],
   "source": [
    "#change MNIST data from a list of values to 28px X 28px X 1 grayscale cube\n",
    "# which the convolution NN can use\n",
    "x_image = tf.reshape(x, [-1,28,28,1], name=\"x_image\")"
   ]
  },
  {
   "cell_type": "code",
   "execution_count": 6,
   "metadata": {
    "collapsed": true
   },
   "outputs": [],
   "source": [
    "#Define helper functions to define bias and weights variables, convolution, and pooling layer\n",
    "#we are using relu as our activation function. these must be utilized to a small positive number\n",
    "# and with some noise so that we dont end up going to zero when comparing diffs\n",
    "\n",
    "def weight_variables(shape):\n",
    "    initial = tf.truncated_normal(shape, stddev=0.1)\n",
    "    return tf.Variable(initial)\n",
    "\n",
    "def bias_variables(shape):\n",
    "    initial = tf.constant(0.1, shape=shape)\n",
    "    return tf.Variable(initial)\n",
    "\n",
    "#Convolution and pooling - we do convolution and then pooling to control overfitting\n",
    "def conv2d(x,W):\n",
    "    return tf.nn.conv2d(x, W, strides=[1,1,1,1],padding=\"SAME\")\n",
    "\n",
    "def max_pool_2x2(x):\n",
    "    return tf.nn.max_pool(x, ksize=[1,2,2,1], strides=[1,2,2,1], padding=\"SAME\")"
   ]
  },
  {
   "cell_type": "code",
   "execution_count": 7,
   "metadata": {
    "collapsed": true
   },
   "outputs": [],
   "source": [
    "#define layers in NN\n",
    "\n",
    "#1st convolution layer\n",
    "#32 features of 5x5 patch of image\n",
    "W_conv1 = weight_variables([5,5,1,32])\n",
    "b_conv1 = bias_variables([32])\n",
    "#Do convolution on images, add bias and push through RELU activation\n",
    "h_conv1 = tf.nn.relu(conv2d(x_image, W_conv1) + b_conv1)\n",
    "# take results and run through max_pool\n",
    "h_pool1 = max_pool_2x2(h_conv1) #reduced to 14x14 image"
   ]
  },
  {
   "cell_type": "code",
   "execution_count": 8,
   "metadata": {
    "collapsed": true
   },
   "outputs": [],
   "source": [
    "#2st convolution layer\n",
    "#Process the 32 features from convolution1 layer, in of 5x5 patch. Return 64 features weights and biases\n",
    "W_conv2 = weight_variables([5,5,32,64])\n",
    "b_conv2 = bias_variables([64])\n",
    "#Do convolution on output of 1st convolution layer. pool results\n",
    "h_conv2 = tf.nn.relu(conv2d(h_pool1, W_conv2) + b_conv2)\n",
    "# take results and run through max_pool\n",
    "h_pool2 = max_pool_2x2(h_conv2) #reduced to 7x7 image"
   ]
  },
  {
   "cell_type": "code",
   "execution_count": 9,
   "metadata": {
    "collapsed": true
   },
   "outputs": [],
   "source": [
    "#Fully connected layer\n",
    "W_fc1 = weight_variables([7*7*64,1024])\n",
    "b_fc1 = bias_variables([1024])"
   ]
  },
  {
   "cell_type": "code",
   "execution_count": 10,
   "metadata": {
    "collapsed": true
   },
   "outputs": [],
   "source": [
    "# connect output of pooling layer 2 as input to fully connected layer\n",
    "h_pool2_flat = tf.reshape(h_pool2, [-1,7*7*64])\n",
    "h_fc1 = tf.nn.relu(tf.matmul(h_pool2_flat,W_fc1) + b_fc1)"
   ]
  },
  {
   "cell_type": "code",
   "execution_count": 11,
   "metadata": {
    "collapsed": true
   },
   "outputs": [],
   "source": [
    "# dropout some nuerons to reduce overfitting \n",
    "keep_prob = tf.placeholder(tf.float32)\n",
    "h_fc1_drop = tf.nn.dropout(h_fc1, keep_prob)"
   ]
  },
  {
   "cell_type": "code",
   "execution_count": 12,
   "metadata": {
    "collapsed": true
   },
   "outputs": [],
   "source": [
    "#Readout layer\n",
    "W_fc2 = weight_variables([1024,10])\n",
    "b_fc2 = bias_variables([10])"
   ]
  },
  {
   "cell_type": "code",
   "execution_count": 13,
   "metadata": {
    "collapsed": true
   },
   "outputs": [],
   "source": [
    "#Define model\n",
    "y_conv = tf.matmul(h_fc1_drop, W_fc2) + b_fc2"
   ]
  },
  {
   "cell_type": "code",
   "execution_count": 14,
   "metadata": {
    "collapsed": true
   },
   "outputs": [],
   "source": [
    "#Loss measurement\n",
    "cross_entropy = tf.reduce_mean(tf.nn.softmax_cross_entropy_with_logits(logits=y_conv, labels=y_))"
   ]
  },
  {
   "cell_type": "code",
   "execution_count": 15,
   "metadata": {
    "collapsed": true
   },
   "outputs": [],
   "source": [
    "#loss optimzation\n",
    "train_step = tf.train.AdamOptimizer(1e-4).minimize(cross_entropy)"
   ]
  },
  {
   "cell_type": "code",
   "execution_count": 16,
   "metadata": {
    "collapsed": true
   },
   "outputs": [],
   "source": [
    "#What is correct\n",
    "correct_prediction = tf.equal(tf.argmax(y_conv,1), tf.argmax(y_,1))\n",
    "#how accurate is it\n",
    "accuracy = tf.reduce_mean(tf.cast(correct_prediction, tf.float32))"
   ]
  },
  {
   "cell_type": "code",
   "execution_count": 17,
   "metadata": {
    "collapsed": true
   },
   "outputs": [],
   "source": [
    "#initialize all the variables\n",
    "sess.run(tf.global_variables_initializer())"
   ]
  },
  {
   "cell_type": "code",
   "execution_count": 18,
   "metadata": {
    "collapsed": true
   },
   "outputs": [],
   "source": [
    "#train the model\n",
    "import time"
   ]
  },
  {
   "cell_type": "code",
   "execution_count": 19,
   "metadata": {
    "collapsed": true
   },
   "outputs": [],
   "source": [
    "#define nnumber of steps and how often we display progress\n",
    "num_steps = 3000\n",
    "display_every = 100"
   ]
  },
  {
   "cell_type": "code",
   "execution_count": 20,
   "metadata": {
    "collapsed": true
   },
   "outputs": [],
   "source": [
    "#Start timer\n",
    "start_time = time.time()\n",
    "end_time = time.time()"
   ]
  },
  {
   "cell_type": "code",
   "execution_count": 21,
   "metadata": {},
   "outputs": [
    {
     "name": "stdout",
     "output_type": "stream",
     "text": [
      "step 0, elapsed_time 0.61 seconds, training_accuracy 10.000\n",
      "step 100, elapsed_time 35.26 seconds, training_accuracy 86.000\n",
      "step 200, elapsed_time 70.14 seconds, training_accuracy 92.000\n",
      "step 300, elapsed_time 105.17 seconds, training_accuracy 90.000\n",
      "step 400, elapsed_time 140.21 seconds, training_accuracy 98.000\n",
      "step 500, elapsed_time 174.79 seconds, training_accuracy 98.000\n",
      "step 600, elapsed_time 212.28 seconds, training_accuracy 92.000\n",
      "step 700, elapsed_time 250.93 seconds, training_accuracy 96.000\n",
      "step 800, elapsed_time 288.68 seconds, training_accuracy 100.000\n",
      "step 900, elapsed_time 353.04 seconds, training_accuracy 94.000\n",
      "step 1000, elapsed_time 399.71 seconds, training_accuracy 98.000\n",
      "step 1100, elapsed_time 433.86 seconds, training_accuracy 94.000\n",
      "step 1200, elapsed_time 467.62 seconds, training_accuracy 98.000\n",
      "step 1300, elapsed_time 501.34 seconds, training_accuracy 98.000\n",
      "step 1400, elapsed_time 535.19 seconds, training_accuracy 100.000\n",
      "step 1500, elapsed_time 568.82 seconds, training_accuracy 100.000\n",
      "step 1600, elapsed_time 602.46 seconds, training_accuracy 98.000\n",
      "step 1700, elapsed_time 636.41 seconds, training_accuracy 98.000\n",
      "step 1800, elapsed_time 671.15 seconds, training_accuracy 94.000\n",
      "step 1900, elapsed_time 701.86 seconds, training_accuracy 96.000\n",
      "step 2000, elapsed_time 732.96 seconds, training_accuracy 96.000\n",
      "step 2100, elapsed_time 764.18 seconds, training_accuracy 98.000\n",
      "step 2200, elapsed_time 795.08 seconds, training_accuracy 98.000\n",
      "step 2300, elapsed_time 825.85 seconds, training_accuracy 96.000\n",
      "step 2400, elapsed_time 856.47 seconds, training_accuracy 98.000\n",
      "step 2500, elapsed_time 888.16 seconds, training_accuracy 98.000\n",
      "step 2600, elapsed_time 918.78 seconds, training_accuracy 96.000\n",
      "step 2700, elapsed_time 951.07 seconds, training_accuracy 100.000\n",
      "step 2800, elapsed_time 981.87 seconds, training_accuracy 100.000\n",
      "step 2900, elapsed_time 1013.03 seconds, training_accuracy 98.000\n"
     ]
    }
   ],
   "source": [
    "for i in range(num_steps):\n",
    "    batch = mnist.train.next_batch(50)\n",
    "    train_step.run(feed_dict={x:batch[0], y_:batch[1], keep_prob: 0.5})\n",
    "    \n",
    "    #periodic status display\n",
    "    if i%display_every == 0:\n",
    "        train_accuracy = accuracy.eval(feed_dict={x:batch[0], y_:batch[1], keep_prob: 1.0})\n",
    "        end_time = time.time()\n",
    "        print(\"step {0}, elapsed_time {1:.2f} seconds, training_accuracy {2:.3f}\".format(i, end_time - start_time, train_accuracy * 100.0))"
   ]
  },
  {
   "cell_type": "code",
   "execution_count": 22,
   "metadata": {},
   "outputs": [
    {
     "name": "stdout",
     "output_type": "stream",
     "text": [
      "total training time for 3000 batches: 1043.56 seconds\n"
     ]
    }
   ],
   "source": [
    "#Display summary\n",
    "#Time to train\n",
    "end_time = time.time()\n",
    "print(\"total training time for {0} batches: {1:.2f} seconds\".format(i+1, end_time-start_time))"
   ]
  },
  {
   "cell_type": "code",
   "execution_count": 23,
   "metadata": {},
   "outputs": [
    {
     "name": "stdout",
     "output_type": "stream",
     "text": [
      "Test accuracy 98.040%\n"
     ]
    }
   ],
   "source": [
    "#Accuracy on test data\n",
    "print(\"Test accuracy {0:.3f}%\".format(accuracy.eval(feed_dict={x: mnist.test.images, y_:mnist.test.labels, keep_prob: 1.0})*100.0))"
   ]
  },
  {
   "cell_type": "code",
   "execution_count": 24,
   "metadata": {
    "collapsed": true
   },
   "outputs": [],
   "source": [
    "sess.close()"
   ]
  }
 ],
 "metadata": {
  "kernelspec": {
   "display_name": "Python 3",
   "language": "python",
   "name": "python3"
  },
  "language_info": {
   "codemirror_mode": {
    "name": "ipython",
    "version": 3
   },
   "file_extension": ".py",
   "mimetype": "text/x-python",
   "name": "python",
   "nbconvert_exporter": "python",
   "pygments_lexer": "ipython3",
   "version": "3.6.3"
  }
 },
 "nbformat": 4,
 "nbformat_minor": 2
}
